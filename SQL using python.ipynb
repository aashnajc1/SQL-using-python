{
 "cells": [
  {
   "cell_type": "markdown",
   "id": "13dc452d",
   "metadata": {},
   "source": [
    "### 1) Create a table with id : int, name: varchar(400), description: text, category_id: int, chef_id: int(255), created:datetime and execute the following statements:"
   ]
  },
  {
   "cell_type": "code",
   "execution_count": 2,
   "id": "3de1f430",
   "metadata": {},
   "outputs": [
    {
     "name": "stdout",
     "output_type": "stream",
     "text": [
      "Database created successfully\n",
      "Table created successfully\n"
     ]
    }
   ],
   "source": [
    "import sqlite3\n",
    "conn = sqlite3.connect('recipe.db')\n",
    "print(\"Database created successfully\")\n",
    "conn.execute('''CREATE TABLE RECIPE1\n",
    "             (ID INT, NAME VARCHAR(400), DESCRIPTION TEXT, \n",
    "             CATEGORY_ID  INT, CHEF_ID INT(255), CREATED DATETIME )''')\n",
    "print(\"Table created successfully\")\n",
    "conn.close()"
   ]
  },
  {
   "cell_type": "code",
   "execution_count": 8,
   "id": "58ce2ccb",
   "metadata": {},
   "outputs": [],
   "source": [
    "import sqlite3\n",
    "conn = sqlite3.connect('recipe.db')\n",
    "conn.execute('''INSERT INTO RECIPE1 VALUES(01, 'MANCHURIAN', 'CHINESE', 100, 00001, '2022-04-16 10:50:30')''')\n",
    "conn.execute('''INSERT INTO RECIPE1 VALUES(02, 'PIZZA', 'ITALIAN', 101, 00002, '2022-04-16 12:50:32')''')\n",
    "conn.execute('''INSERT INTO RECIPE1 VALUES(03, 'PANEER BUTTER MASALA','INDIAN', 102, 00003, '2022-04-17 10:34:34')''')\n",
    "conn.execute('''INSERT INTO RECIPE1 VALUES(04, 'FRIED RICE','CHINESE', 103, 00004, '2022-04-05 09:56:10')''')\n",
    "conn.commit()\n",
    "conn.close()"
   ]
  },
  {
   "cell_type": "code",
   "execution_count": 9,
   "id": "a45ff0df",
   "metadata": {},
   "outputs": [
    {
     "name": "stdout",
     "output_type": "stream",
     "text": [
      "(1, 'MANCHURIAN', 'CHINESE', 100, 1, '2022-04-16 10:50:30')\n",
      "(2, 'PIZZA', 'ITALIAN', 101, 2, '2022-04-16 12:50:32')\n",
      "(3, 'PANEER BUTTER MASALA', 'INDIAN', 102, 3, '2022-04-17 10:34:34')\n",
      "(4, 'FRIED RICE', 'CHINESE', 103, 4, '2022-04-05 09:56:10')\n"
     ]
    }
   ],
   "source": [
    "import sqlite3\n",
    "conn = sqlite3.connect('recipe.db')\n",
    "cursor = conn.execute(\"SELECT * FROM RECIPE1\")\n",
    "for i in cursor:\n",
    "    print(i)\n",
    "conn.close()"
   ]
  },
  {
   "cell_type": "markdown",
   "id": "053cd191",
   "metadata": {},
   "source": [
    "### 1.1)Write a query to display the total number of recipes available with the description \"Chinese\""
   ]
  },
  {
   "cell_type": "code",
   "execution_count": 10,
   "id": "69aeaeab",
   "metadata": {},
   "outputs": [
    {
     "name": "stdout",
     "output_type": "stream",
     "text": [
      "(1, 'MANCHURIAN', 'CHINESE', 100, 1, '2022-04-16 10:50:30')\n",
      "(4, 'FRIED RICE', 'CHINESE', 103, 4, '2022-04-05 09:56:10')\n"
     ]
    }
   ],
   "source": [
    "import sqlite3\n",
    "conn = sqlite3.connect('recipe.db')\n",
    "cursor = conn.execute(\"SELECT * FROM RECIPE1 where DESCRIPTION = 'CHINESE'\")\n",
    "for i in cursor:\n",
    "    print(i)\n",
    "conn.close()"
   ]
  },
  {
   "cell_type": "markdown",
   "id": "3f776e44",
   "metadata": {},
   "source": [
    "### 1.2) Write a query to display the id, name of the recipes with chef_id '0002'"
   ]
  },
  {
   "cell_type": "code",
   "execution_count": 11,
   "id": "60b4a854",
   "metadata": {},
   "outputs": [
    {
     "name": "stdout",
     "output_type": "stream",
     "text": [
      "(2, 'PIZZA')\n"
     ]
    }
   ],
   "source": [
    "import sqlite3\n",
    "conn = sqlite3.connect('recipe.db')\n",
    "cursor = conn.execute(\"SELECT ID, NAME FROM RECIPE1 where CHEF_ID = 0002\")\n",
    "for i in cursor:\n",
    "    print(i)\n",
    "conn.close()"
   ]
  },
  {
   "cell_type": "markdown",
   "id": "4e2c3d66",
   "metadata": {},
   "source": [
    "### 1.3)Write a query to display the description of the recipes whose name begins with 'P'"
   ]
  },
  {
   "cell_type": "code",
   "execution_count": 16,
   "id": "8b196786",
   "metadata": {},
   "outputs": [
    {
     "name": "stdout",
     "output_type": "stream",
     "text": [
      "('ITALIAN',)\n",
      "('INDIAN',)\n"
     ]
    }
   ],
   "source": [
    "import sqlite3\n",
    "conn = sqlite3.connect('recipe.db')\n",
    "cursor = conn.execute(\"SELECT DESCRIPTION FROM RECIPE1 where NAME like 'P%'\")\n",
    "for i in cursor:\n",
    "    print(i)\n",
    "conn.close()"
   ]
  },
  {
   "cell_type": "markdown",
   "id": "1a762642",
   "metadata": {},
   "source": [
    "### 2) Create a table movie of the below structure and assume data types: Movie_ID,Movie_name,genre,language,rating and execute the following statements:"
   ]
  },
  {
   "cell_type": "code",
   "execution_count": 17,
   "id": "394fc560",
   "metadata": {},
   "outputs": [
    {
     "name": "stdout",
     "output_type": "stream",
     "text": [
      "Database created successfully\n",
      "Table created successfully\n"
     ]
    }
   ],
   "source": [
    "import sqlite3\n",
    "conn = sqlite3.connect('movie.db')\n",
    "print(\"Database created successfully\")\n",
    "conn.execute('''CREATE TABLE MOVIE(MOVIE_ID INT, MOVIE_NAME CHAR(400), GENRE CHAR(100), LANGUAGE CHAR(100), RATING INT)''')\n",
    "print(\"Table created successfully\")\n",
    "conn.close()"
   ]
  },
  {
   "cell_type": "code",
   "execution_count": 19,
   "id": "249c7191",
   "metadata": {},
   "outputs": [
    {
     "name": "stdout",
     "output_type": "stream",
     "text": [
      "Values inserted\n"
     ]
    }
   ],
   "source": [
    "import sqlite3\n",
    "conn = sqlite3.connect('movie.db')\n",
    "conn.execute('''INSERT INTO MOVIE VALUES(100,'Pushpa- the rise', 'Thriller', 'Telugu', 7.6)''')\n",
    "conn.execute('''INSERT INTO MOVIE VALUES(101, 'Hridayam', 'Romance', 'Malayalam', 8.1)''')\n",
    "conn.execute('''INSERT INTO MOVIE VALUES(102, 'Love story', 'Romance', 'Telugu', 6.9)''')\n",
    "conn.execute('''INSERT INTO MOVIE VALUES(103, '83', 'Drama', 'Hindi', 7.6)''')\n",
    "conn.execute('''INSERT INTO MOVIE VALUES(104, 'Home', 'Drama', 'Malayalam', 8.9)''')\n",
    "conn.commit()\n",
    "print(\"Values inserted\")\n",
    "conn.close()"
   ]
  },
  {
   "cell_type": "code",
   "execution_count": 20,
   "id": "2bebc1cd",
   "metadata": {},
   "outputs": [
    {
     "name": "stdout",
     "output_type": "stream",
     "text": [
      "(100, 'Pushpa- the rise', 'Thriller', 'Telugu', 7.6)\n",
      "(101, 'Hridayam', 'Romance', 'Malayalam', 8.1)\n",
      "(102, 'Love story', 'Romance', 'Telugu', 6.9)\n",
      "(103, '83', 'Drama', 'Hindi', 7.6)\n",
      "(104, 'Home', 'Drama', 'Malayalam', 8.9)\n"
     ]
    }
   ],
   "source": [
    "import sqlite3\n",
    "conn = sqlite3.connect('movie.db')\n",
    "cursor = conn.execute(\"SELECT * FROM MOVIE\")\n",
    "for i in cursor:\n",
    "    print(i)\n",
    "conn.close()"
   ]
  },
  {
   "cell_type": "markdown",
   "id": "e1f5ff82",
   "metadata": {},
   "source": [
    "### 2.1) Update the movie rating by 10% and display it"
   ]
  },
  {
   "cell_type": "code",
   "execution_count": 21,
   "id": "51c6b8a7",
   "metadata": {},
   "outputs": [
    {
     "name": "stdout",
     "output_type": "stream",
     "text": [
      "updated ratings:\n",
      "(8.36,)\n",
      "(8.91,)\n",
      "(7.590000000000001,)\n",
      "(8.36,)\n",
      "(9.790000000000001,)\n"
     ]
    }
   ],
   "source": [
    "import sqlite3\n",
    "conn = sqlite3.connect('movie.db')\n",
    "conn.execute(\"UPDATE MOVIE SET RATING = RATING + (0.1*RATING)\")\n",
    "conn.commit()\n",
    "cursor = conn.execute(\"SELECT RATING FROM MOVIE\")\n",
    "print(\"updated ratings:\")\n",
    "for i in cursor:\n",
    "    print(i)"
   ]
  },
  {
   "cell_type": "markdown",
   "id": "07875246",
   "metadata": {},
   "source": [
    "### 2.2) Delete the movies with movie_id 102"
   ]
  },
  {
   "cell_type": "code",
   "execution_count": 22,
   "id": "de43cc35",
   "metadata": {},
   "outputs": [
    {
     "name": "stdout",
     "output_type": "stream",
     "text": [
      "(100, 'Pushpa- the rise', 'Thriller', 'Telugu', 8.36)\n",
      "(101, 'Hridayam', 'Romance', 'Malayalam', 8.91)\n",
      "(103, '83', 'Drama', 'Hindi', 8.36)\n",
      "(104, 'Home', 'Drama', 'Malayalam', 9.790000000000001)\n"
     ]
    }
   ],
   "source": [
    "import sqlite3\n",
    "conn = sqlite3.connect('movie.db')\n",
    "conn.execute(\"DELETE FROM MOVIE WHERE MOVIE_ID = 102\")\n",
    "conn.commit()\n",
    "cursor = conn.execute(\"SELECT * FROM MOVIE\")\n",
    "for i in cursor:\n",
    "    print(i)"
   ]
  },
  {
   "cell_type": "markdown",
   "id": "ccde35a2",
   "metadata": {},
   "source": [
    "### 2.3)Select movies whose rating is more than 3"
   ]
  },
  {
   "cell_type": "code",
   "execution_count": 24,
   "id": "6e4ed31b",
   "metadata": {},
   "outputs": [
    {
     "name": "stdout",
     "output_type": "stream",
     "text": [
      "('Pushpa- the rise',)\n",
      "('Hridayam',)\n",
      "('83',)\n",
      "('Home',)\n"
     ]
    }
   ],
   "source": [
    "import sqlite3\n",
    "conn = sqlite3.connect('movie.db')\n",
    "cursor = conn.execute(\"SELECT MOVIE_NAME FROM MOVIE where RATING > 3.0\")\n",
    "for i in cursor:\n",
    "    print(i)\n",
    "conn.close()"
   ]
  },
  {
   "cell_type": "markdown",
   "id": "a1b6ac1d",
   "metadata": {},
   "source": [
    "###  3) Create a course database with the following fields Product(ID, Prod_name,Supplier_id,Unit_price,Package,OrderID),OrderItem(ID,Order_id,Product_id,Unit_price,Quantity) using Foreign key and execute the following statements:"
   ]
  },
  {
   "cell_type": "code",
   "execution_count": 27,
   "id": "5af49e74",
   "metadata": {},
   "outputs": [
    {
     "name": "stdout",
     "output_type": "stream",
     "text": [
      "Database created successfully\n",
      "Tables created successfully\n"
     ]
    }
   ],
   "source": [
    "import sqlite3\n",
    "conn = sqlite3.connect('product.db')\n",
    "print(\"Database created successfully\")\n",
    "conn.execute('''CREATE TABLE PRODUCT1(ID INT PRIMARY KEY NOT NULL, PROD_NAME CHAR(300), SUPPLIER_ID INT, UNIT_PRICE INT, PACKAGE INT, ORDERID INT)''')\n",
    "conn.execute('''CREATE TABLE ORDERITEM1(ID INT, ORDER_ID INT, PRODUCT_ID INT , UNIT_PRICE INT, QUANTITY INT ,FOREIGN KEY(QUANTITY) REFERENCES PRODUCT(ID)\n",
    ")''')\n",
    "print(\"Tables created successfully\")\n",
    "conn.close()"
   ]
  },
  {
   "cell_type": "code",
   "execution_count": 2,
   "id": "8ad199de",
   "metadata": {},
   "outputs": [],
   "source": [
    "import sqlite3\n",
    "conn=sqlite3.connect('product.db')\n",
    "conn.execute(\"INSERT INTO PRODUCT1 VALUES(1, 'PENS', 90, 10, 09, 120)\")\n",
    "conn.execute(\"INSERT INTO PRODUCT1 VALUES(2, 'PENCILS', 91, 10, 10, 121)\")\n",
    "conn.execute(\"INSERT INTO PRODUCT1 VALUES(3, 'BOOKS', 92, 40, 11, 122)\")\n",
    "conn.execute(\"INSERT INTO PRODUCT1 VALUES(4, 'SCALES', 93, 10, 12, 123)\")\n",
    "conn.execute(\"INSERT INTO ORDERITEM1 VALUES(100, 090, 456, 10, 7)\")\n",
    "conn.execute(\"INSERT INTO ORDERITEM1 VALUES(101, 091, 457, 10, 7)\")\n",
    "conn.execute(\"INSERT INTO ORDERITEM1 VALUES(102, 092, 458, 40, 8)\")\n",
    "conn.execute(\"INSERT INTO ORDERITEM1 VALUES(103, 093, 459, 10, 3)\")\n",
    "conn.commit()\n",
    "conn.close()"
   ]
  },
  {
   "cell_type": "code",
   "execution_count": 4,
   "id": "c6b5f8a7",
   "metadata": {},
   "outputs": [
    {
     "name": "stdout",
     "output_type": "stream",
     "text": [
      "(1, 'PENS', 90, 10, 9, 120)\n",
      "(2, 'PENCILS', 91, 10, 10, 121)\n",
      "(3, 'BOOKS', 92, 40, 11, 122)\n",
      "(4, 'SCALES', 93, 10, 12, 123)\n",
      "(100, 90, 456, 10, 7)\n",
      "(101, 91, 457, 10, 7)\n",
      "(102, 92, 458, 40, 8)\n",
      "(103, 93, 459, 10, 3)\n"
     ]
    }
   ],
   "source": [
    "import sqlite3\n",
    "conn = sqlite3.connect('product.db')\n",
    "cursor = conn.execute(\"SELECT * FROM PRODUCT1\")\n",
    "for i in cursor:\n",
    "    print(i)\n",
    "cursor = conn.execute(\"SELECT *FROM ORDERITEM1\")\n",
    "for j in cursor:\n",
    "    print(j)"
   ]
  },
  {
   "cell_type": "markdown",
   "id": "12071196",
   "metadata": {},
   "source": [
    "### 3.1) Display the total quantity of every product in the stock"
   ]
  },
  {
   "cell_type": "code",
   "execution_count": 5,
   "id": "7e3e98a8",
   "metadata": {},
   "outputs": [
    {
     "name": "stdout",
     "output_type": "stream",
     "text": [
      "(7,)\n",
      "(7,)\n",
      "(8,)\n",
      "(3,)\n"
     ]
    }
   ],
   "source": [
    "import sqlite3\n",
    "conn = sqlite3.connect('product.db')\n",
    "cursor = conn.execute(\"SELECT QUANTITY FROM ORDERITEM1\")\n",
    "for i in cursor:\n",
    "    print(i)\n",
    "conn.close()"
   ]
  },
  {
   "cell_type": "markdown",
   "id": "02f78129",
   "metadata": {},
   "source": [
    "### 3.2)Sort the unit price based on the supplier_id"
   ]
  },
  {
   "cell_type": "code",
   "execution_count": 7,
   "id": "14703737",
   "metadata": {},
   "outputs": [
    {
     "name": "stdout",
     "output_type": "stream",
     "text": [
      "(10,)\n",
      "(10,)\n",
      "(40,)\n",
      "(10,)\n"
     ]
    }
   ],
   "source": [
    "import sqlite3\n",
    "conn = sqlite3.connect('product.db')\n",
    "conn.execute(\"SELECT * FROM PRODUCT1 ORDER BY SUPPLIER_ID\")\n",
    "conn.commit()\n",
    "cursor= conn.execute(\"SELECT UNIT_PRICE FROM PRODUCT1\")\n",
    "for i in cursor:\n",
    "    print(i)\n",
    "conn.close()"
   ]
  },
  {
   "cell_type": "markdown",
   "id": "3a165656",
   "metadata": {},
   "source": [
    "### 3.3) Display the product_name along with order_id and supplier_id"
   ]
  },
  {
   "cell_type": "code",
   "execution_count": 10,
   "id": "378c32c2",
   "metadata": {},
   "outputs": [
    {
     "name": "stdout",
     "output_type": "stream",
     "text": [
      "('PENS', 120, 90)\n",
      "('PENCILS', 121, 91)\n",
      "('BOOKS', 122, 92)\n",
      "('SCALES', 123, 93)\n"
     ]
    }
   ],
   "source": [
    "import sqlite3\n",
    "conn = sqlite3.connect('product.db')\n",
    "cursor = conn.execute(\"SELECT PROD_NAME, ORDERID, SUPPLIER_ID FROM PRODUCT1\")\n",
    "for i in cursor:\n",
    "    print(i)\n",
    "conn.close()"
   ]
  },
  {
   "cell_type": "markdown",
   "id": "25871e39",
   "metadata": {},
   "source": [
    "### 4)Write a SQL lite3 statement to create a table named as job including columns job_id,job_title,Min-salary,Max_salary.job_id column does not contain any duplicate value at the time of insertion :"
   ]
  },
  {
   "cell_type": "code",
   "execution_count": 11,
   "id": "046f57a1",
   "metadata": {},
   "outputs": [
    {
     "name": "stdout",
     "output_type": "stream",
     "text": [
      "Database created successfully\n",
      "Table created successfully\n"
     ]
    }
   ],
   "source": [
    "import sqlite3\n",
    "conn = sqlite3.connect('job.db')\n",
    "print(\"Database created successfully\")\n",
    "conn.execute('''CREATE TABLE JOB(JOB_ID INT PRIMARY KEY, JOB_TITLE CHAR(100) NOT NULL, MIN_SALARY INT NOT NULL, MAX_SALARY INT NOT NULL)''')\n",
    "print(\"Table created successfully\")\n",
    "conn.close()"
   ]
  },
  {
   "cell_type": "code",
   "execution_count": 12,
   "id": "cb4b0ec2",
   "metadata": {},
   "outputs": [],
   "source": [
    "import sqlite3\n",
    "conn = sqlite3.connect('job.db')\n",
    "conn.execute('''INSERT INTO JOB VALUES(100, 'PRESIDENT', 50000, 100000)''')\n",
    "conn.execute('''INSERT INTO JOB VALUES(101, 'VICE PRESIDENT', 50000, 100000)''')\n",
    "conn.execute('''INSERT INTO JOB VALUES(102, 'DIRECTOR', 50000, 100000)''')\n",
    "conn.execute('''INSERT INTO JOB VALUES(103, 'MANAGER', 50000, 100000)''')\n",
    "conn.commit()\n",
    "conn.close()"
   ]
  },
  {
   "cell_type": "code",
   "execution_count": 13,
   "id": "16ae430d",
   "metadata": {},
   "outputs": [
    {
     "name": "stdout",
     "output_type": "stream",
     "text": [
      "(100, 'PRESIDENT', 50000, 100000)\n",
      "(101, 'VICE PRESIDENT', 50000, 100000)\n",
      "(102, 'DIRECTOR', 50000, 100000)\n",
      "(103, 'MANAGER', 50000, 100000)\n"
     ]
    }
   ],
   "source": [
    "import sqlite3\n",
    "conn = sqlite3.connect('job.db')\n",
    "cursor = conn.execute(\"SELECT * FROM JOB\")\n",
    "for i in cursor:\n",
    "    print(i)\n",
    "conn.close()"
   ]
  },
  {
   "cell_type": "markdown",
   "id": "e126bd21",
   "metadata": {},
   "source": [
    "### 5) Write a SQL lite3 statement to create a table names as job_history including columns employee_id, start_date, end_date, job_id and department_id and make sure that, the employee_id column does not contain any duplicate value at the time of insertion and the foreign key column job_id contain only those values which are exists in the jobs table:"
   ]
  },
  {
   "cell_type": "code",
   "execution_count": 2,
   "id": "5be72580",
   "metadata": {},
   "outputs": [
    {
     "name": "stdout",
     "output_type": "stream",
     "text": [
      "Database created successfully\n",
      "Table created successfully\n"
     ]
    }
   ],
   "source": [
    "import sqlite3\n",
    "conn = sqlite3.connect('job.db')\n",
    "print(\"Database created successfully\")\n",
    "conn.execute('''CREATE TABLE JOB_HISTORY1(EMP_ID INT PRIMARY KEY NOT NULL, START_DATE DATE , END_DATE DATE, JOB_ID INT, DEPT_ID INT)''')\n",
    "print(\"Table created successfully\")\n",
    "conn.close()"
   ]
  },
  {
   "cell_type": "code",
   "execution_count": 3,
   "id": "dd0f6a0f",
   "metadata": {},
   "outputs": [],
   "source": [
    "import sqlite3\n",
    "conn = sqlite3.connect('job.db')\n",
    "conn.execute('''INSERT INTO JOB_HISTORY1 VALUES(100, '2017-04-05', '2022-04-18', 097, 70)''')\n",
    "conn.execute('''INSERT INTO JOB_HISTORY1 VALUES(101, '2016-08-14', '2018-09-09', 098, 71)''')\n",
    "conn.execute('''INSERT INTO JOB_HISTORY1 VALUES(102, '2019-07-23', '2021-12-17', 099, 72)''')\n",
    "conn.commit()\n",
    "conn.close()"
   ]
  },
  {
   "cell_type": "code",
   "execution_count": 4,
   "id": "d443fbd3",
   "metadata": {},
   "outputs": [
    {
     "name": "stdout",
     "output_type": "stream",
     "text": [
      "(100, '2017-04-05', '2022-04-18', 97, 70)\n",
      "(101, '2016-08-14', '2018-09-09', 98, 71)\n",
      "(102, '2019-07-23', '2021-12-17', 99, 72)\n"
     ]
    }
   ],
   "source": [
    "import sqlite3\n",
    "conn = sqlite3.connect('job.db')\n",
    "cursor = conn.execute(\"SELECT * FROM JOB_HISTORY1\")\n",
    "for i in cursor:\n",
    "    print(i)"
   ]
  }
 ],
 "metadata": {
  "kernelspec": {
   "display_name": "Python 3 (ipykernel)",
   "language": "python",
   "name": "python3"
  },
  "language_info": {
   "codemirror_mode": {
    "name": "ipython",
    "version": 3
   },
   "file_extension": ".py",
   "mimetype": "text/x-python",
   "name": "python",
   "nbconvert_exporter": "python",
   "pygments_lexer": "ipython3",
   "version": "3.9.7"
  }
 },
 "nbformat": 4,
 "nbformat_minor": 5
}
